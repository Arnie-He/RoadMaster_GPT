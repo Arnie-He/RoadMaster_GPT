{
 "cells": [
  {
   "cell_type": "code",
   "execution_count": 60,
   "metadata": {},
   "outputs": [
    {
     "name": "stdout",
     "output_type": "stream",
     "text": [
      "(39209, 30, 30, 3) (39209,)\n",
      "(31367, 30, 30, 3) (7842, 30, 30, 3) (31367,) (7842,)\n",
      "2023-05-07 09:13:05.637081: W tensorflow/tsl/platform/profile_utils/cpu_utils.cc:128] Failed to get CPU frequency: 0 Hz\n",
      "Epoch 1/15\n",
      "981/981 [==============================] - 27s 27ms/step - loss: 1.9198 - accuracy: 0.5120 - val_loss: 0.4970 - val_accuracy: 0.8792\n",
      "Epoch 2/15\n",
      "981/981 [==============================] - 25s 25ms/step - loss: 0.6314 - accuracy: 0.8169 - val_loss: 0.1953 - val_accuracy: 0.9546\n",
      "Epoch 3/15\n",
      "981/981 [==============================] - 25s 26ms/step - loss: 0.4465 - accuracy: 0.8703 - val_loss: 0.1228 - val_accuracy: 0.9697\n",
      "Epoch 4/15\n",
      "981/981 [==============================] - 25s 25ms/step - loss: 0.3551 - accuracy: 0.8972 - val_loss: 0.0803 - val_accuracy: 0.9795\n",
      "Epoch 5/15\n",
      "981/981 [==============================] - 26s 27ms/step - loss: 0.3224 - accuracy: 0.9089 - val_loss: 0.0764 - val_accuracy: 0.9799\n",
      "Epoch 6/15\n",
      "981/981 [==============================] - 24s 25ms/step - loss: 0.2904 - accuracy: 0.9162 - val_loss: 0.0902 - val_accuracy: 0.9741\n",
      "Epoch 7/15\n",
      "981/981 [==============================] - 24s 25ms/step - loss: 0.2570 - accuracy: 0.9254 - val_loss: 0.0598 - val_accuracy: 0.9821\n",
      "Epoch 8/15\n",
      "981/981 [==============================] - 25s 26ms/step - loss: 0.2580 - accuracy: 0.9273 - val_loss: 0.0708 - val_accuracy: 0.9782\n",
      "Epoch 9/15\n",
      "981/981 [==============================] - 25s 25ms/step - loss: 0.2710 - accuracy: 0.9241 - val_loss: 0.0695 - val_accuracy: 0.9774\n",
      "Epoch 10/15\n",
      "981/981 [==============================] - 28s 29ms/step - loss: 0.2153 - accuracy: 0.9392 - val_loss: 0.0597 - val_accuracy: 0.9823\n",
      "Epoch 11/15\n",
      "981/981 [==============================] - 26s 26ms/step - loss: 0.2248 - accuracy: 0.9378 - val_loss: 0.0610 - val_accuracy: 0.9846\n",
      "Epoch 12/15\n",
      "981/981 [==============================] - 28s 29ms/step - loss: 0.2284 - accuracy: 0.9368 - val_loss: 0.0580 - val_accuracy: 0.9844\n",
      "Epoch 13/15\n",
      "981/981 [==============================] - 25s 26ms/step - loss: 0.2097 - accuracy: 0.9422 - val_loss: 0.0476 - val_accuracy: 0.9872\n",
      "Epoch 14/15\n",
      "981/981 [==============================] - 27s 27ms/step - loss: 0.2394 - accuracy: 0.9370 - val_loss: 0.0489 - val_accuracy: 0.9848\n",
      "Epoch 15/15\n",
      "981/981 [==============================] - 24s 24ms/step - loss: 0.2030 - accuracy: 0.9459 - val_loss: 0.0434 - val_accuracy: 0.9879\n",
      "Figure(640x480)\n",
      "Figure(640x480)\n",
      "Traceback (most recent call last):\n",
      "  File \"/Users/kevin/Desktop/cs1470/RoadMaster_GPT/sign/archive/main.py\", line 86, in <module>\n",
      "    pred = model.predict_classes(X_test)\n",
      "AttributeError: 'Sequential' object has no attribute 'predict_classes'. Did you mean: 'predict_step'?\n"
     ]
    }
   ],
   "source": [
    "# run main.py\n",
    "! python main.py"
   ]
  },
  {
   "cell_type": "code",
   "execution_count": 71,
   "metadata": {},
   "outputs": [
    {
     "ename": "ValueError",
     "evalue": "in user code:\n\n    File \"/Users/kevin/miniconda3/envs/csci1470/lib/python3.10/site-packages/keras/engine/training.py\", line 2137, in predict_function  *\n        return step_function(self, iterator)\n    File \"/Users/kevin/miniconda3/envs/csci1470/lib/python3.10/site-packages/keras/engine/training.py\", line 2123, in step_function  **\n        outputs = model.distribute_strategy.run(run_step, args=(data,))\n    File \"/Users/kevin/miniconda3/envs/csci1470/lib/python3.10/site-packages/keras/engine/training.py\", line 2111, in run_step  **\n        outputs = model.predict_step(data)\n    File \"/Users/kevin/miniconda3/envs/csci1470/lib/python3.10/site-packages/keras/engine/training.py\", line 2079, in predict_step\n        return self(x, training=False)\n    File \"/Users/kevin/miniconda3/envs/csci1470/lib/python3.10/site-packages/keras/utils/traceback_utils.py\", line 70, in error_handler\n        raise e.with_traceback(filtered_tb) from None\n    File \"/Users/kevin/miniconda3/envs/csci1470/lib/python3.10/site-packages/keras/engine/input_spec.py\", line 295, in assert_input_compatibility\n        raise ValueError(\n\n    ValueError: Input 0 of layer \"sequential\" is incompatible with the layer: expected shape=(None, 30, 30, 3), found shape=(None, 30, 30, 4)\n",
     "output_type": "error",
     "traceback": [
      "\u001b[0;31m---------------------------------------------------------------------------\u001b[0m",
      "\u001b[0;31mValueError\u001b[0m                                Traceback (most recent call last)",
      "Cell \u001b[0;32mIn[71], line 12\u001b[0m\n\u001b[1;32m     10\u001b[0m image \u001b[39m=\u001b[39m np\u001b[39m.\u001b[39mexpand_dims(image, axis\u001b[39m=\u001b[39m\u001b[39m0\u001b[39m)\n\u001b[1;32m     11\u001b[0m image \u001b[39m=\u001b[39m np\u001b[39m.\u001b[39marray(image)\n\u001b[0;32m---> 12\u001b[0m pred \u001b[39m=\u001b[39m model\u001b[39m.\u001b[39;49mpredict(image)\n\u001b[1;32m     13\u001b[0m label \u001b[39m=\u001b[39m np\u001b[39m.\u001b[39margmax(pred[\u001b[39m0\u001b[39m])\n\u001b[1;32m     14\u001b[0m \u001b[39mprint\u001b[39m(label)\n",
      "File \u001b[0;32m~/miniconda3/envs/csci1470/lib/python3.10/site-packages/keras/utils/traceback_utils.py:70\u001b[0m, in \u001b[0;36mfilter_traceback.<locals>.error_handler\u001b[0;34m(*args, **kwargs)\u001b[0m\n\u001b[1;32m     67\u001b[0m     filtered_tb \u001b[39m=\u001b[39m _process_traceback_frames(e\u001b[39m.\u001b[39m__traceback__)\n\u001b[1;32m     68\u001b[0m     \u001b[39m# To get the full stack trace, call:\u001b[39;00m\n\u001b[1;32m     69\u001b[0m     \u001b[39m# `tf.debugging.disable_traceback_filtering()`\u001b[39;00m\n\u001b[0;32m---> 70\u001b[0m     \u001b[39mraise\u001b[39;00m e\u001b[39m.\u001b[39mwith_traceback(filtered_tb) \u001b[39mfrom\u001b[39;00m \u001b[39mNone\u001b[39m\n\u001b[1;32m     71\u001b[0m \u001b[39mfinally\u001b[39;00m:\n\u001b[1;32m     72\u001b[0m     \u001b[39mdel\u001b[39;00m filtered_tb\n",
      "File \u001b[0;32m/var/folders/5m/2c2f3cfj0hb9m5gss4qnt5780000gn/T/__autograph_generated_fileais3j_zc.py:15\u001b[0m, in \u001b[0;36mouter_factory.<locals>.inner_factory.<locals>.tf__predict_function\u001b[0;34m(iterator)\u001b[0m\n\u001b[1;32m     13\u001b[0m \u001b[39mtry\u001b[39;00m:\n\u001b[1;32m     14\u001b[0m     do_return \u001b[39m=\u001b[39m \u001b[39mTrue\u001b[39;00m\n\u001b[0;32m---> 15\u001b[0m     retval_ \u001b[39m=\u001b[39m ag__\u001b[39m.\u001b[39mconverted_call(ag__\u001b[39m.\u001b[39mld(step_function), (ag__\u001b[39m.\u001b[39mld(\u001b[39mself\u001b[39m), ag__\u001b[39m.\u001b[39mld(iterator)), \u001b[39mNone\u001b[39;00m, fscope)\n\u001b[1;32m     16\u001b[0m \u001b[39mexcept\u001b[39;00m:\n\u001b[1;32m     17\u001b[0m     do_return \u001b[39m=\u001b[39m \u001b[39mFalse\u001b[39;00m\n",
      "\u001b[0;31mValueError\u001b[0m: in user code:\n\n    File \"/Users/kevin/miniconda3/envs/csci1470/lib/python3.10/site-packages/keras/engine/training.py\", line 2137, in predict_function  *\n        return step_function(self, iterator)\n    File \"/Users/kevin/miniconda3/envs/csci1470/lib/python3.10/site-packages/keras/engine/training.py\", line 2123, in step_function  **\n        outputs = model.distribute_strategy.run(run_step, args=(data,))\n    File \"/Users/kevin/miniconda3/envs/csci1470/lib/python3.10/site-packages/keras/engine/training.py\", line 2111, in run_step  **\n        outputs = model.predict_step(data)\n    File \"/Users/kevin/miniconda3/envs/csci1470/lib/python3.10/site-packages/keras/engine/training.py\", line 2079, in predict_step\n        return self(x, training=False)\n    File \"/Users/kevin/miniconda3/envs/csci1470/lib/python3.10/site-packages/keras/utils/traceback_utils.py\", line 70, in error_handler\n        raise e.with_traceback(filtered_tb) from None\n    File \"/Users/kevin/miniconda3/envs/csci1470/lib/python3.10/site-packages/keras/engine/input_spec.py\", line 295, in assert_input_compatibility\n        raise ValueError(\n\n    ValueError: Input 0 of layer \"sequential\" is incompatible with the layer: expected shape=(None, 30, 30, 3), found shape=(None, 30, 30, 4)\n"
     ]
    }
   ],
   "source": [
    "from keras.models import load_model\n",
    "from PIL import Image\n",
    "import numpy as np\n",
    "import cv2 as cv\n",
    "model = load_model(\"my_model.h5\")\n",
    "\n",
    "#use model to predict image: /Users/kevin/Desktop/cs1470/RoadMaster_GPT/prompt/data/images/0.jpg\n",
    "image = Image.open('/Users/kevin/Desktop/cs1470/RoadMaster_GPT/sign/archive/Meta/41.png')\n",
    "image = image.resize((30,30))\n",
    "image = np.expand_dims(image, axis=0)\n",
    "image = np.array(image)\n",
    "pred = model.predict(image)\n",
    "label = np.argmax(pred[0])\n",
    "print(label)\n",
    "\n"
   ]
  }
 ],
 "metadata": {
  "kernelspec": {
   "display_name": "csci1470",
   "language": "python",
   "name": "python3"
  },
  "language_info": {
   "codemirror_mode": {
    "name": "ipython",
    "version": 3
   },
   "file_extension": ".py",
   "mimetype": "text/x-python",
   "name": "python",
   "nbconvert_exporter": "python",
   "pygments_lexer": "ipython3",
   "version": "3.10.8"
  },
  "orig_nbformat": 4
 },
 "nbformat": 4,
 "nbformat_minor": 2
}
